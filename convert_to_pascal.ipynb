{
 "cells": [
  {
   "cell_type": "markdown",
   "id": "d8a3c7e3",
   "metadata": {},
   "source": [
    "train dataset"
   ]
  },
  {
   "cell_type": "code",
   "execution_count": 4,
   "id": "c09e88e2",
   "metadata": {},
   "outputs": [
    {
     "name": "stdout",
     "output_type": "stream",
     "text": [
      "✅ Converted 187 images to Pascal VOC XMLs!\n"
     ]
    }
   ],
   "source": [
    "import os\n",
    "import cv2\n",
    "import xml.etree.ElementTree as ET\n",
    "\n",
    "# Paths\n",
    "image_dir = '/home/saku/2010776109_RUSHO/RSOD_YOLO-20250708T170752Z-1-001/RSOD_YOLO/val/images'\n",
    "label_dir = '/home/saku/2010776109_RUSHO/RSOD_YOLO-20250708T170752Z-1-001/RSOD_YOLO/val/labels'\n",
    "output_dir = '/home/saku/2010776109_RUSHO/RSOD_YOLO-20250708T170752Z-1-001/RSOD_YOLO/val/Annotations'\n",
    "\n",
    "os.makedirs(output_dir, exist_ok=True)\n",
    "\n",
    "# Class names — must match your dataset\n",
    "classes = ['aircraft', 'oiltank', 'overpass', 'playground']\n",
    "\n",
    "for img_file in sorted(os.listdir(image_dir)):\n",
    "    if not img_file.endswith(('.jpg', '.png', '.jpeg')):\n",
    "        continue\n",
    "\n",
    "    img_path = os.path.join(image_dir, img_file)\n",
    "    label_path = os.path.join(label_dir, os.path.splitext(img_file)[0] + '.txt')\n",
    "    img = cv2.imread(img_path)\n",
    "    h, w, c = img.shape\n",
    "\n",
    "    # Make root\n",
    "    annotation = ET.Element('annotation')\n",
    "    ET.SubElement(annotation, 'folder').text = os.path.basename(image_dir)\n",
    "    ET.SubElement(annotation, 'filename').text = img_file\n",
    "    ET.SubElement(annotation, 'path').text = img_path\n",
    "\n",
    "    size = ET.SubElement(annotation, 'size')\n",
    "    ET.SubElement(size, 'width').text = str(w)\n",
    "    ET.SubElement(size, 'height').text = str(h)\n",
    "    ET.SubElement(size, 'depth').text = str(c)\n",
    "\n",
    "    ET.SubElement(annotation, 'segmented').text = '0'\n",
    "\n",
    "    if os.path.exists(label_path):\n",
    "        with open(label_path) as f:\n",
    "            for line in f:\n",
    "                cls_id, xc, yc, bw, bh = map(float, line.strip().split())\n",
    "                cls_name = classes[int(cls_id)]\n",
    "                x1 = int((xc - bw/2) * w)\n",
    "                y1 = int((yc - bh/2) * h)\n",
    "                x2 = int((xc + bw/2) * w)\n",
    "                y2 = int((yc + bh/2) * h)\n",
    "\n",
    "                obj = ET.SubElement(annotation, 'object')\n",
    "                ET.SubElement(obj, 'name').text = cls_name\n",
    "                ET.SubElement(obj, 'pose').text = 'Unspecified'\n",
    "                ET.SubElement(obj, 'truncated').text = '0'\n",
    "                ET.SubElement(obj, 'difficult').text = '0'\n",
    "\n",
    "                bndbox = ET.SubElement(obj, 'bndbox')\n",
    "                ET.SubElement(bndbox, 'xmin').text = str(max(0, x1))\n",
    "                ET.SubElement(bndbox, 'ymin').text = str(max(0, y1))\n",
    "                ET.SubElement(bndbox, 'xmax').text = str(min(w, x2))\n",
    "                ET.SubElement(bndbox, 'ymax').text = str(min(h, y2))\n",
    "\n",
    "    # Write XML\n",
    "    tree = ET.ElementTree(annotation)\n",
    "    xml_file = os.path.join(output_dir, os.path.splitext(img_file)[0] + '.xml')\n",
    "    tree.write(xml_file)\n",
    "\n",
    "print(f\"✅ Converted {len(os.listdir(output_dir))} images to Pascal VOC XMLs!\")\n"
   ]
  },
  {
   "cell_type": "markdown",
   "id": "5646a098",
   "metadata": {},
   "source": [
    "cell 1: imports"
   ]
  }
 ],
 "metadata": {
  "kernelspec": {
   "display_name": "Python 3",
   "language": "python",
   "name": "python3"
  },
  "language_info": {
   "codemirror_mode": {
    "name": "ipython",
    "version": 3
   },
   "file_extension": ".py",
   "mimetype": "text/x-python",
   "name": "python",
   "nbconvert_exporter": "python",
   "pygments_lexer": "ipython3",
   "version": "3.11.13"
  }
 },
 "nbformat": 4,
 "nbformat_minor": 5
}
